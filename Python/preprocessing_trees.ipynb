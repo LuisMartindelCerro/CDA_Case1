{
 "cells": [
  {
   "cell_type": "markdown",
   "metadata": {},
   "source": [
    "# Import"
   ]
  },
  {
   "cell_type": "code",
   "execution_count": 2,
   "metadata": {},
   "outputs": [],
   "source": [
    "import pandas as pd\n",
    "import os"
   ]
  },
  {
   "cell_type": "markdown",
   "metadata": {},
   "source": [
    "# Load dataset"
   ]
  },
  {
   "cell_type": "code",
   "execution_count": 3,
   "metadata": {},
   "outputs": [],
   "source": [
    "excel = pd.read_csv('../Data/case1Data.csv')\n",
    "#os.getcwd()"
   ]
  },
  {
   "cell_type": "code",
   "execution_count": 4,
   "metadata": {},
   "outputs": [],
   "source": [
    "y = excel.iloc[:, 0]\n",
    "df = excel.iloc[:, 1:]"
   ]
  },
  {
   "cell_type": "markdown",
   "metadata": {},
   "source": [
    "_all NaN analysis is made on the preprocessing.ipynb file_"
   ]
  },
  {
   "cell_type": "markdown",
   "metadata": {},
   "source": [
    "Convert to One-Hot-Enconding the categorical variables (only step required)"
   ]
  },
  {
   "cell_type": "code",
   "execution_count": null,
   "metadata": {},
   "outputs": [],
   "source": [
    "df_numeric = df.iloc[:, :95]  # Extract numerical variables\n",
    "df_categorical = df.iloc[:, 95:]  # Extract categorical variables\n",
    "\n",
    "# Convert numerical categoris to 'str' types so they are recognized as categorical\n",
    "df_categorical = df_categorical.astype(str)\n",
    "\n",
    "# One-Hot Encoding\n",
    "df_categorical_encoded = pd.get_dummies(df_categorical)\n",
    "df_categorical_encoded = df_categorical_encoded.astype(int) # convert boolean to 0/1\n",
    "\n",
    "\n",
    "# Combine on a final df\n",
    "df_final = pd.concat([y, df_numeric, df_categorical_encoded], axis=1)\n",
    "\n",
    "# save the final df\n",
    "df_final.to_csv('../Data/preprocessed_dataframes/data_trees.csv', index=False)"
   ]
  }
 ],
 "metadata": {
  "kernelspec": {
   "display_name": "myenv",
   "language": "python",
   "name": "python3"
  },
  "language_info": {
   "codemirror_mode": {
    "name": "ipython",
    "version": 3
   },
   "file_extension": ".py",
   "mimetype": "text/x-python",
   "name": "python",
   "nbconvert_exporter": "python",
   "pygments_lexer": "ipython3",
   "version": "3.12.9"
  }
 },
 "nbformat": 4,
 "nbformat_minor": 4
}
