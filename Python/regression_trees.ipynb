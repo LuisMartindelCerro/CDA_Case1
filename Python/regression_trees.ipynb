{
 "cells": [
  {
   "cell_type": "markdown",
   "metadata": {},
   "source": [
    "# Load Libraries"
   ]
  },
  {
   "cell_type": "code",
   "execution_count": 3,
   "metadata": {},
   "outputs": [],
   "source": [
    "from sklearn.tree import DecisionTreeRegressor\n",
    "from sklearn.model_selection import cross_val_score\n",
    "import numpy as np\n",
    "from sklearn.model_selection import GridSearchCV\n",
    "import pandas as pd"
   ]
  },
  {
   "cell_type": "markdown",
   "metadata": {},
   "source": [
    "# Load the data"
   ]
  },
  {
   "cell_type": "code",
   "execution_count": 4,
   "metadata": {},
   "outputs": [],
   "source": [
    "df = pd.read_csv('../Data/data_5KNN.csv')\n",
    "y = df.iloc[:, 0]\n",
    "X = df.iloc[:, 1:]"
   ]
  },
  {
   "cell_type": "markdown",
   "metadata": {},
   "source": [
    "# Train one single tree"
   ]
  },
  {
   "cell_type": "code",
   "execution_count": 5,
   "metadata": {},
   "outputs": [
    {
     "name": "stdout",
     "output_type": "stream",
     "text": [
      "Mean RMSE for max-depth Decision Tree: 58.63685220965472\n"
     ]
    }
   ],
   "source": [
    "# Train a Decision Tree with max depth (default = full depth)\n",
    "tree_max = DecisionTreeRegressor(max_depth=None, random_state=42)\n",
    "\n",
    "# Perform 5-fold CV and compute RMSE\n",
    "scores = cross_val_score(tree_max, X, y, cv=5, scoring='neg_mean_squared_error')\n",
    "rmse_scores = np.sqrt(-scores)\n",
    "\n",
    "print(f\"Mean RMSE for max-depth Decision Tree: {np.mean(rmse_scores)}\")"
   ]
  },
  {
   "cell_type": "markdown",
   "metadata": {},
   "source": [
    "Choose optimal tree size by tuning the parameter MinLeaf value using cross\n",
    "validation."
   ]
  },
  {
   "cell_type": "code",
   "execution_count": 6,
   "metadata": {},
   "outputs": [
    {
     "name": "stdout",
     "output_type": "stream",
     "text": [
      "Best min_samples_leaf: 8\n",
      "One-Standard-Error Rule gives min_samples_leaf: 40\n",
      "Mean RMSE for min_samples_leaf Decision Tree: 52.5891751992845\n"
     ]
    }
   ],
   "source": [
    "# use cross validation to tune the hyper parameter for nim_sample_leaf\n",
    "# use sklearns GridSearchCV\n",
    "# Define tree\n",
    "tree = DecisionTreeRegressor(random_state=42)\n",
    "\n",
    "# Define parameter grid\n",
    "leafs = range(1, 50)\n",
    "param_grid = {'min_samples_leaf': leafs}\n",
    "\n",
    "# Perform cross-validation\n",
    "grid_search = GridSearchCV(tree, param_grid, cv=5, scoring='neg_mean_squared_error', n_jobs=-1)\n",
    "grid_search.fit(X, y)\n",
    "\n",
    "# Get best parameter\n",
    "best_leaf = grid_search.best_params_['min_samples_leaf']\n",
    "print(f\"Best min_samples_leaf: {best_leaf}\")\n",
    "\n",
    "# One-Standard-Error Rule\n",
    "meanError = grid_search.cv_results_['mean_test_score']\n",
    "stdError = grid_search.cv_results_['std_test_score']\n",
    "maxAcc = np.argmax(meanError)\n",
    "J = np.where(meanError[maxAcc] - stdError[maxAcc] < meanError)[0]\n",
    "\n",
    "if len(J) > 0:\n",
    "    best_leaf_ose = leafs[int(J[-1])]\n",
    "else:\n",
    "    best_leaf_ose = best_leaf\n",
    "\n",
    "print(f\"One-Standard-Error Rule gives min_samples_leaf: {best_leaf_ose}\")\n",
    "\n",
    "# Train tree with chosen parameter\n",
    "tree_best = DecisionTreeRegressor(min_samples_leaf=best_leaf_ose, random_state=42)\n",
    "scores = cross_val_score(tree_best, X, y, cv=5, scoring='neg_mean_squared_error')\n",
    "rmse_scores = np.sqrt(-scores)\n",
    "\n",
    "print(f\"Mean RMSE for min_samples_leaf Decision Tree: {np.mean(rmse_scores)}\")\n"
   ]
  },
  {
   "cell_type": "markdown",
   "metadata": {},
   "source": [
    "# Prunning tree"
   ]
  },
  {
   "cell_type": "code",
   "execution_count": 7,
   "metadata": {},
   "outputs": [
    {
     "name": "stdout",
     "output_type": "stream",
     "text": [
      "Best ccp_alpha: 175.87057282662954\n",
      "Mean RMSE for pruned Decision Tree: 48.158092120352435\n"
     ]
    }
   ],
   "source": [
    "# Train full-depth tree to get pruning path\n",
    "tree_full = DecisionTreeRegressor(random_state=42)\n",
    "path = tree_full.cost_complexity_pruning_path(X, y)\n",
    "ccp_alphas = path.ccp_alphas\n",
    "\n",
    "# Try different pruning values\n",
    "rmse_scores = []\n",
    "for alpha in ccp_alphas:\n",
    "    tree_pruned = DecisionTreeRegressor(random_state=42, ccp_alpha=alpha)\n",
    "    scores = cross_val_score(tree_pruned, X, y, cv=5, scoring='neg_mean_squared_error')\n",
    "    rmse_scores.append(np.mean(np.sqrt(-scores)))\n",
    "\n",
    "# Choose best alpha\n",
    "best_alpha = ccp_alphas[np.argmin(rmse_scores)]\n",
    "print(f\"Best ccp_alpha: {best_alpha}\")\n",
    "\n",
    "# Train final pruned model\n",
    "tree_final = DecisionTreeRegressor(ccp_alpha=best_alpha, random_state=42)\n",
    "scores = cross_val_score(tree_final, X, y, cv=5, scoring='neg_mean_squared_error')\n",
    "rmse_scores = np.sqrt(-scores)\n",
    "\n",
    "print(f\"Mean RMSE for pruned Decision Tree: {np.mean(rmse_scores)}\")\n"
   ]
  }
 ],
 "metadata": {
  "kernelspec": {
   "display_name": "base",
   "language": "python",
   "name": "python3"
  },
  "language_info": {
   "codemirror_mode": {
    "name": "ipython",
    "version": 3
   },
   "file_extension": ".py",
   "mimetype": "text/x-python",
   "name": "python",
   "nbconvert_exporter": "python",
   "pygments_lexer": "ipython3",
   "version": "3.12.4"
  }
 },
 "nbformat": 4,
 "nbformat_minor": 2
}
