{
 "cells": [
  {
   "cell_type": "markdown",
   "metadata": {},
   "source": [
    "Plot Figure for the report"
   ]
  },
  {
   "cell_type": "code",
   "execution_count": null,
   "metadata": {},
   "outputs": [],
   "source": [
    "import numpy as np\n",
    "import pandas as pd\n",
    "import matplotlib.pyplot as plt\n",
    "import seaborn as sns\n",
    "\n",
    "# Creating a dataset with invented values\n",
    "models = [\"OLS\", \"Lasso (LARS)\", \"Ridge\", \"Elastic Net\", \"CART Bagging\", \"Random Forest\", \"Gradient Boosting\"]\n",
    "performance_full = np.random.uniform(0.6, 0.95, len(models))  # Random scores between 0.6 and 0.95\n",
    "performance_12var = performance_full - np.random.uniform(0.01, 0.05, len(models))  # Slightly lower scores\n",
    "\n",
    "data = pd.DataFrame({\n",
    "    \"Model\": np.repeat(models, 2),\n",
    "    \"Dataset\": [\"Full Dataset\", \"12 Variables\"] * len(models),\n",
    "    \"Performance\": np.concatenate([performance_full, performance_12var])\n",
    "})\n",
    "\n",
    "# Plotting\n",
    "plt.figure(figsize=(10, 6))\n",
    "sns.barplot(x=\"Model\", y=\"Performance\", hue=\"Dataset\", data=data, palette=[\"#1f77b4\", \"#ff7f0e\"], edgecolor=\"black\")\n",
    "\n",
    "# Formatting the plot\n",
    "plt.title(\"Model Performance Comparison\", fontsize=14, fontweight=\"bold\")\n",
    "plt.xlabel(\"Model\", fontsize=12)\n",
    "plt.ylabel(\"Performance Score\", fontsize=12)\n",
    "plt.ylim(0.5, 1.0)\n",
    "plt.legend(title=\"Dataset\")\n",
    "plt.grid(axis=\"y\", linestyle=\"--\", alpha=0.7)\n",
    "\n",
    "# Show the plot\n",
    "plt.show()\n"
   ]
  }
 ],
 "metadata": {
  "kernelspec": {
   "display_name": "myenv",
   "language": "python",
   "name": "python3"
  },
  "language_info": {
   "codemirror_mode": {
    "name": "ipython",
    "version": 3
   },
   "file_extension": ".py",
   "mimetype": "text/x-python",
   "name": "python",
   "nbconvert_exporter": "python",
   "pygments_lexer": "ipython3",
   "version": "3.12.9"
  }
 },
 "nbformat": 4,
 "nbformat_minor": 2
}
